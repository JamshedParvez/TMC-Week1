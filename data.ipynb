{
 "cells": [
  {
   "cell_type": "code",
   "execution_count": 2,
   "metadata": {},
   "outputs": [],
   "source": [
    "from selectorlib import Extractor \n",
    "\n",
    "import requests\n",
    "import pandas as pd \n",
    "import html5lib\n",
    "\n",
    "r = requests.get('https://www.lushusa.com/face/cleansers-scrubs/?cgid=cleansers-scrubs&start=0&sz=28')\n",
    "yml_text = \"\"\"\n",
    "product_data:\n",
    "    css: 'div.d-flex div.product-tile'\n",
    "    xpath: null\n",
    "    multiple: true\n",
    "    type: Text\n",
    "    children:\n",
    "        image:\n",
    "            css: 'img.product-tile-image'\n",
    "            xpath: null\n",
    "            multiple: false\n",
    "            type: Image\n",
    "        name:\n",
    "            css: 'h3.product-tile-name'\n",
    "            xpath: null\n",
    "            multiple: false\n",
    "            type: Text\n",
    "        price:\n",
    "            css: 'div.tile-price-size span.tile-price'\n",
    "            xpath: null\n",
    "            multiple: false\n",
    "            type: Text\"\"\"\n",
    "e = Extractor.from_yaml_string(yml_text)\n",
    "data = e.extract(r.text)\n",
    "\n",
    "df = pd.DataFrame(data['product_data'])\n",
    "df\n",
    "\n",
    "url = 'https://www.lushusa.com/face/cleansers-scrubs/?cgid=cleansers-scrubs&start=0&sz=28'\n",
    "#dfs = pd.read_html(url)\n",
    "\n",
    "\n",
    "df.to_excel('product_data.xlsx', index=False)\n",
    "\n",
    "\n",
    "\n",
    "\n"
   ]
  },
  {
   "cell_type": "code",
   "execution_count": 1,
   "metadata": {},
   "outputs": [
    {
     "name": "stdout",
     "output_type": "stream",
     "text": [
      "[{'name': ['Sunsilk - Shampoo Long & Healthy - 185Ml'], 'actual_price': ['Rs.370.00', 'Rs.328.00']}, {'name': ['Sunsilk - Shampoo Long & Healthy - 360ml'], 'actual_price': ['Rs.620.00', 'Rs.550.00']}, {'name': ['Sunsilk - Conditioner Long & Healthy - 180ml'], 'actual_price': ['Rs.399.00', 'Rs.354.00']}, {'name': ['Sunsilk - Shampoo Anti Dandruf Natural -185Ml'], 'actual_price': ['Rs.370.00', 'Rs.328.00']}, {'name': ['Sunsilk - Conditioner Anti Breakage - 180Ml'], 'actual_price': ['Rs.273.00']}, {'name': ['Sunsilk - Shampoo Black Shine - 660Ml'], 'actual_price': ['Rs.980.00', 'Rs.870.00']}, {'name': ['Sunsilk Hair Band'], 'actual_price': ['Rs.99,999.00']}, {'name': ['Sunsilk - Shampoo Blackshine - 185Ml'], 'actual_price': ['Rs.370.00', 'Rs.328.00']}, {'name': ['Sunsilk -  Head Bands'], 'actual_price': ['Rs.99,999.00']}, {'name': ['Sunsilk - Shampoo Thick & Long - 185Ml'], 'actual_price': ['Rs.370.00', 'Rs.328.00']}, {'name': ['Sunsilk - Shampoo Thick & Long - 360Ml'], 'actual_price': ['Rs.620.00', 'Rs.550.00']}, {'name': ['Sunsilk - Shampoo Black shine - 80ml'], 'actual_price': ['Rs.170.00', 'Rs.151.00']}, {'name': ['Sunsilk - Hair Fall Solution Shampoo - 185Ml'], 'actual_price': ['Rs.370.00', 'Rs.328.00']}, {'name': ['Sunsilk - Hairfall Shampoo - 680Ml'], 'actual_price': ['Rs.980.00', 'Rs.870.00']}, {'name': ['Sunsilk-  Conditioner Thick And Long - 180 ml'], 'actual_price': ['Rs.399.00', 'Rs.354.00']}]\n",
      "[{'name': ['Sunsilk - Natural Anti Dandruff - 380ml'], 'actual_price': ['Rs.524.00', 'Rs.516.00']}, {'name': ['Sunsilk - Hair Fall Solution Shampoo - 360ml'], 'actual_price': ['Rs.620.00', 'Rs.550.00']}, {'name': ['Sunsilk - Shampoo Black Shine - 680Ml'], 'actual_price': ['Rs.958.00', 'Rs.857.00']}, {'name': ['Sunsilk - Shampoo Blackshine - 700Ml'], 'actual_price': ['Rs.943.00']}, {'name': ['Sunsilk - Shampoo Long & Healthy - 200ml'], 'actual_price': ['Rs.288.00']}, {'name': ['Sunsilk - Shampoo Refresh Natural - 380ml'], 'actual_price': ['Rs.520.00', 'Rs.512.00']}, {'name': ['Sunsilk - Shampoo Stunning Black Shine - 360Ml'], 'actual_price': ['Rs.620.00', 'Rs.550.00']}, {'name': ['Sunsilk - Shampoo Hairfall - 380Ml'], 'actual_price': ['Rs.577.00']}, {'name': ['Sunsilk - Shampoo Refresh - 185ml'], 'actual_price': ['Rs.285.00', 'Rs.253.00']}, {'name': ['Sunsilk - Shampoo Thick & Long - 680Ml'], 'actual_price': ['Rs.958.00', 'Rs.857.00']}, {'name': ['Sunsilk - Shampoo Fig & Mint Refresh - 180Ml'], 'actual_price': ['Rs.217.00']}, {'name': ['Sunsilk - Shampoo Hairfall - 380ml'], 'actual_price': ['Rs.520.00', 'Rs.461.00']}, {'name': ['Sunsilk - Shampoo Hairfall - 185ml'], 'actual_price': ['Rs.287.00', 'Rs.283.00']}, {'name': ['Sunsilk - Shampoo Blackshine - 400ml'], 'actual_price': ['Rs.498.00']}, {'name': ['Sunsilk - Black Shine Shampoo - 200ml'], 'actual_price': ['Rs.477.00']}]\n",
      "[{'name': ['Sunsilk - Shampoo Refresh Natural - 360ml'], 'actual_price': ['Rs.520.00', 'Rs.461.00']}, {'name': ['Sunsilk - Conditioner Anti Hairfall Natural - 180ml'], 'actual_price': ['Rs.313.00', 'Rs.308.00']}, {'name': ['Sunsilk - Shampoo Fig & Mint Refresh - 380Ml'], 'actual_price': ['Rs.465.00']}, {'name': ['Sunsilk - Long & Healthy Growth Shampoo - 80ml'], 'actual_price': ['Rs.170.00', 'Rs.151.00']}, {'name': ['Sunsilk - Conditioner Refresh - 180ml'], 'actual_price': ['Rs.300.00']}, {'name': ['Sunsilk - Shampoo Anti Hairfall Natural - 185Ml'], 'actual_price': ['Rs.285.00', 'Rs.253.00']}]\n",
      "None\n",
      "5\n"
     ]
    },
    {
     "ename": "ValueError",
     "evalue": "No engine for filetype: 'csv'",
     "output_type": "error",
     "traceback": [
      "\u001b[1;31m---------------------------------------------------------------------------\u001b[0m",
      "\u001b[1;31mOptionError\u001b[0m                               Traceback (most recent call last)",
      "File \u001b[1;32m~\\AppData\\Local\\Packages\\PythonSoftwareFoundation.Python.3.10_qbz5n2kfra8p0\\LocalCache\\local-packages\\Python310\\site-packages\\pandas\\io\\excel\\_base.py:1144\u001b[0m, in \u001b[0;36mExcelWriter.__new__\u001b[1;34m(cls, path, engine, date_format, datetime_format, mode, storage_options, if_sheet_exists, engine_kwargs, **kwargs)\u001b[0m\n\u001b[0;32m   1143\u001b[0m \u001b[39mtry\u001b[39;00m:\n\u001b[1;32m-> 1144\u001b[0m     engine \u001b[39m=\u001b[39m config\u001b[39m.\u001b[39;49mget_option(\u001b[39mf\u001b[39;49m\u001b[39m\"\u001b[39;49m\u001b[39mio.excel.\u001b[39;49m\u001b[39m{\u001b[39;49;00mext\u001b[39m}\u001b[39;49;00m\u001b[39m.writer\u001b[39;49m\u001b[39m\"\u001b[39;49m, silent\u001b[39m=\u001b[39;49m\u001b[39mTrue\u001b[39;49;00m)\n\u001b[0;32m   1145\u001b[0m     \u001b[39mif\u001b[39;00m engine \u001b[39m==\u001b[39m \u001b[39m\"\u001b[39m\u001b[39mauto\u001b[39m\u001b[39m\"\u001b[39m:\n",
      "File \u001b[1;32m~\\AppData\\Local\\Packages\\PythonSoftwareFoundation.Python.3.10_qbz5n2kfra8p0\\LocalCache\\local-packages\\Python310\\site-packages\\pandas\\_config\\config.py:263\u001b[0m, in \u001b[0;36mCallableDynamicDoc.__call__\u001b[1;34m(self, *args, **kwds)\u001b[0m\n\u001b[0;32m    262\u001b[0m \u001b[39mdef\u001b[39;00m \u001b[39m__call__\u001b[39m(\u001b[39mself\u001b[39m, \u001b[39m*\u001b[39margs, \u001b[39m*\u001b[39m\u001b[39m*\u001b[39mkwds) \u001b[39m-\u001b[39m\u001b[39m>\u001b[39m T:\n\u001b[1;32m--> 263\u001b[0m     \u001b[39mreturn\u001b[39;00m \u001b[39mself\u001b[39m\u001b[39m.\u001b[39m\u001b[39m__func__\u001b[39m(\u001b[39m*\u001b[39margs, \u001b[39m*\u001b[39m\u001b[39m*\u001b[39mkwds)\n",
      "File \u001b[1;32m~\\AppData\\Local\\Packages\\PythonSoftwareFoundation.Python.3.10_qbz5n2kfra8p0\\LocalCache\\local-packages\\Python310\\site-packages\\pandas\\_config\\config.py:135\u001b[0m, in \u001b[0;36m_get_option\u001b[1;34m(pat, silent)\u001b[0m\n\u001b[0;32m    134\u001b[0m \u001b[39mdef\u001b[39;00m \u001b[39m_get_option\u001b[39m(pat: \u001b[39mstr\u001b[39m, silent: \u001b[39mbool\u001b[39m \u001b[39m=\u001b[39m \u001b[39mFalse\u001b[39;00m) \u001b[39m-\u001b[39m\u001b[39m>\u001b[39m Any:\n\u001b[1;32m--> 135\u001b[0m     key \u001b[39m=\u001b[39m _get_single_key(pat, silent)\n\u001b[0;32m    137\u001b[0m     \u001b[39m# walk the nested dict\u001b[39;00m\n",
      "File \u001b[1;32m~\\AppData\\Local\\Packages\\PythonSoftwareFoundation.Python.3.10_qbz5n2kfra8p0\\LocalCache\\local-packages\\Python310\\site-packages\\pandas\\_config\\config.py:121\u001b[0m, in \u001b[0;36m_get_single_key\u001b[1;34m(pat, silent)\u001b[0m\n\u001b[0;32m    120\u001b[0m         _warn_if_deprecated(pat)\n\u001b[1;32m--> 121\u001b[0m     \u001b[39mraise\u001b[39;00m OptionError(\u001b[39mf\u001b[39m\u001b[39m\"\u001b[39m\u001b[39mNo such keys(s): \u001b[39m\u001b[39m{\u001b[39;00m\u001b[39mrepr\u001b[39m(pat)\u001b[39m}\u001b[39;00m\u001b[39m\"\u001b[39m)\n\u001b[0;32m    122\u001b[0m \u001b[39mif\u001b[39;00m \u001b[39mlen\u001b[39m(keys) \u001b[39m>\u001b[39m \u001b[39m1\u001b[39m:\n",
      "\u001b[1;31mOptionError\u001b[0m: No such keys(s): 'io.excel.csv.writer'",
      "\nThe above exception was the direct cause of the following exception:\n",
      "\u001b[1;31mValueError\u001b[0m                                Traceback (most recent call last)",
      "Cell \u001b[1;32mIn[1], line 45\u001b[0m\n\u001b[0;32m     43\u001b[0m df1 \u001b[39m=\u001b[39m pd\u001b[39m.\u001b[39mDataFrame(data[\u001b[39m'\u001b[39m\u001b[39mProduct_data\u001b[39m\u001b[39m'\u001b[39m])\n\u001b[0;32m     44\u001b[0m df1\n\u001b[1;32m---> 45\u001b[0m df1\u001b[39m.\u001b[39;49mto_excel(\u001b[39m'\u001b[39;49m\u001b[39mShampoo1.csv\u001b[39;49m\u001b[39m'\u001b[39;49m, index\u001b[39m=\u001b[39;49m\u001b[39mFalse\u001b[39;49;00m)\n",
      "File \u001b[1;32m~\\AppData\\Local\\Packages\\PythonSoftwareFoundation.Python.3.10_qbz5n2kfra8p0\\LocalCache\\local-packages\\Python310\\site-packages\\pandas\\util\\_decorators.py:211\u001b[0m, in \u001b[0;36mdeprecate_kwarg.<locals>._deprecate_kwarg.<locals>.wrapper\u001b[1;34m(*args, **kwargs)\u001b[0m\n\u001b[0;32m    209\u001b[0m     \u001b[39melse\u001b[39;00m:\n\u001b[0;32m    210\u001b[0m         kwargs[new_arg_name] \u001b[39m=\u001b[39m new_arg_value\n\u001b[1;32m--> 211\u001b[0m \u001b[39mreturn\u001b[39;00m func(\u001b[39m*\u001b[39margs, \u001b[39m*\u001b[39m\u001b[39m*\u001b[39mkwargs)\n",
      "File \u001b[1;32m~\\AppData\\Local\\Packages\\PythonSoftwareFoundation.Python.3.10_qbz5n2kfra8p0\\LocalCache\\local-packages\\Python310\\site-packages\\pandas\\util\\_decorators.py:211\u001b[0m, in \u001b[0;36mdeprecate_kwarg.<locals>._deprecate_kwarg.<locals>.wrapper\u001b[1;34m(*args, **kwargs)\u001b[0m\n\u001b[0;32m    209\u001b[0m     \u001b[39melse\u001b[39;00m:\n\u001b[0;32m    210\u001b[0m         kwargs[new_arg_name] \u001b[39m=\u001b[39m new_arg_value\n\u001b[1;32m--> 211\u001b[0m \u001b[39mreturn\u001b[39;00m func(\u001b[39m*\u001b[39margs, \u001b[39m*\u001b[39m\u001b[39m*\u001b[39mkwargs)\n",
      "File \u001b[1;32m~\\AppData\\Local\\Packages\\PythonSoftwareFoundation.Python.3.10_qbz5n2kfra8p0\\LocalCache\\local-packages\\Python310\\site-packages\\pandas\\core\\generic.py:2374\u001b[0m, in \u001b[0;36mNDFrame.to_excel\u001b[1;34m(self, excel_writer, sheet_name, na_rep, float_format, columns, header, index, index_label, startrow, startcol, engine, merge_cells, encoding, inf_rep, verbose, freeze_panes, storage_options)\u001b[0m\n\u001b[0;32m   2361\u001b[0m \u001b[39mfrom\u001b[39;00m \u001b[39mpandas\u001b[39;00m\u001b[39m.\u001b[39;00m\u001b[39mio\u001b[39;00m\u001b[39m.\u001b[39;00m\u001b[39mformats\u001b[39;00m\u001b[39m.\u001b[39;00m\u001b[39mexcel\u001b[39;00m \u001b[39mimport\u001b[39;00m ExcelFormatter\n\u001b[0;32m   2363\u001b[0m formatter \u001b[39m=\u001b[39m ExcelFormatter(\n\u001b[0;32m   2364\u001b[0m     df,\n\u001b[0;32m   2365\u001b[0m     na_rep\u001b[39m=\u001b[39mna_rep,\n\u001b[1;32m   (...)\u001b[0m\n\u001b[0;32m   2372\u001b[0m     inf_rep\u001b[39m=\u001b[39minf_rep,\n\u001b[0;32m   2373\u001b[0m )\n\u001b[1;32m-> 2374\u001b[0m formatter\u001b[39m.\u001b[39;49mwrite(\n\u001b[0;32m   2375\u001b[0m     excel_writer,\n\u001b[0;32m   2376\u001b[0m     sheet_name\u001b[39m=\u001b[39;49msheet_name,\n\u001b[0;32m   2377\u001b[0m     startrow\u001b[39m=\u001b[39;49mstartrow,\n\u001b[0;32m   2378\u001b[0m     startcol\u001b[39m=\u001b[39;49mstartcol,\n\u001b[0;32m   2379\u001b[0m     freeze_panes\u001b[39m=\u001b[39;49mfreeze_panes,\n\u001b[0;32m   2380\u001b[0m     engine\u001b[39m=\u001b[39;49mengine,\n\u001b[0;32m   2381\u001b[0m     storage_options\u001b[39m=\u001b[39;49mstorage_options,\n\u001b[0;32m   2382\u001b[0m )\n",
      "File \u001b[1;32m~\\AppData\\Local\\Packages\\PythonSoftwareFoundation.Python.3.10_qbz5n2kfra8p0\\LocalCache\\local-packages\\Python310\\site-packages\\pandas\\io\\formats\\excel.py:944\u001b[0m, in \u001b[0;36mExcelFormatter.write\u001b[1;34m(self, writer, sheet_name, startrow, startcol, freeze_panes, engine, storage_options)\u001b[0m\n\u001b[0;32m    940\u001b[0m     need_save \u001b[39m=\u001b[39m \u001b[39mFalse\u001b[39;00m\n\u001b[0;32m    941\u001b[0m \u001b[39melse\u001b[39;00m:\n\u001b[0;32m    942\u001b[0m     \u001b[39m# error: Cannot instantiate abstract class 'ExcelWriter' with abstract\u001b[39;00m\n\u001b[0;32m    943\u001b[0m     \u001b[39m# attributes 'engine', 'save', 'supported_extensions' and 'write_cells'\u001b[39;00m\n\u001b[1;32m--> 944\u001b[0m     writer \u001b[39m=\u001b[39m ExcelWriter(  \u001b[39m# type: ignore[abstract]\u001b[39;49;00m\n\u001b[0;32m    945\u001b[0m         writer, engine\u001b[39m=\u001b[39;49mengine, storage_options\u001b[39m=\u001b[39;49mstorage_options\n\u001b[0;32m    946\u001b[0m     )\n\u001b[0;32m    947\u001b[0m     need_save \u001b[39m=\u001b[39m \u001b[39mTrue\u001b[39;00m\n\u001b[0;32m    949\u001b[0m \u001b[39mtry\u001b[39;00m:\n",
      "File \u001b[1;32m~\\AppData\\Local\\Packages\\PythonSoftwareFoundation.Python.3.10_qbz5n2kfra8p0\\LocalCache\\local-packages\\Python310\\site-packages\\pandas\\io\\excel\\_base.py:1148\u001b[0m, in \u001b[0;36mExcelWriter.__new__\u001b[1;34m(cls, path, engine, date_format, datetime_format, mode, storage_options, if_sheet_exists, engine_kwargs, **kwargs)\u001b[0m\n\u001b[0;32m   1146\u001b[0m             engine \u001b[39m=\u001b[39m get_default_engine(ext, mode\u001b[39m=\u001b[39m\u001b[39m\"\u001b[39m\u001b[39mwriter\u001b[39m\u001b[39m\"\u001b[39m)\n\u001b[0;32m   1147\u001b[0m     \u001b[39mexcept\u001b[39;00m \u001b[39mKeyError\u001b[39;00m \u001b[39mas\u001b[39;00m err:\n\u001b[1;32m-> 1148\u001b[0m         \u001b[39mraise\u001b[39;00m \u001b[39mValueError\u001b[39;00m(\u001b[39mf\u001b[39m\u001b[39m\"\u001b[39m\u001b[39mNo engine for filetype: \u001b[39m\u001b[39m'\u001b[39m\u001b[39m{\u001b[39;00mext\u001b[39m}\u001b[39;00m\u001b[39m'\u001b[39m\u001b[39m\"\u001b[39m) \u001b[39mfrom\u001b[39;00m \u001b[39merr\u001b[39;00m\n\u001b[0;32m   1150\u001b[0m \u001b[39mif\u001b[39;00m engine \u001b[39m==\u001b[39m \u001b[39m\"\u001b[39m\u001b[39mxlwt\u001b[39m\u001b[39m\"\u001b[39m:\n\u001b[0;32m   1151\u001b[0m     xls_config_engine \u001b[39m=\u001b[39m config\u001b[39m.\u001b[39mget_option(\n\u001b[0;32m   1152\u001b[0m         \u001b[39m\"\u001b[39m\u001b[39mio.excel.xls.writer\u001b[39m\u001b[39m\"\u001b[39m, silent\u001b[39m=\u001b[39m\u001b[39mTrue\u001b[39;00m\n\u001b[0;32m   1153\u001b[0m     )\n",
      "\u001b[1;31mValueError\u001b[0m: No engine for filetype: 'csv'"
     ]
    }
   ],
   "source": [
    "import pandas as pd\n",
    "import requests\n",
    "\n",
    "from selectorlib import Extractor\n",
    "all_data = []\n",
    "page = 1\n",
    "while True:\n",
    "    url = f'https://bagallery.com/search?filter=1&page={page}&q=sunsilk&type=product'\n",
    "    session = requests.Session()\n",
    "    response = session.get(url = url)\n",
    "    yaml = '''\n",
    "    Product_data:\n",
    "        css: 'div.grid-item div.product-bottom'\n",
    "        xpath: null\n",
    "        multiple: true\n",
    "        type: Text\n",
    "        children:\n",
    "            name:\n",
    "                css: 'a.product-title'\n",
    "                xpath: null\n",
    "                multiple: true\n",
    "                type: Text\n",
    "            actual_price:\n",
    "                css: 'span.money'\n",
    "                xpath: null\n",
    "                multiple: true\n",
    "                type: Text\n",
    "\n",
    "    '''\n",
    "    e = Extractor.from_yaml_string(yaml)\n",
    "    data = e.extract(response.text)\n",
    "\n",
    "    \n",
    "    print(data['Product_data'])\n",
    "    page += 1\n",
    "    try:\n",
    "        all_data += data['Product_data']\n",
    "    except:\n",
    "        print(page)\n",
    "        break\n",
    "\n",
    "\n",
    "df1 = pd.DataFrame(data['Product_data'])\n",
    "df1\n",
    "df1.to_excel('Shampoo1.csv', index=False)"
   ]
  }
 ],
 "metadata": {
  "kernelspec": {
   "display_name": "Python 3",
   "language": "python",
   "name": "python3"
  },
  "language_info": {
   "codemirror_mode": {
    "name": "ipython",
    "version": 3
   },
   "file_extension": ".py",
   "mimetype": "text/x-python",
   "name": "python",
   "nbconvert_exporter": "python",
   "pygments_lexer": "ipython3",
   "version": "3.10.10"
  },
  "orig_nbformat": 4,
  "vscode": {
   "interpreter": {
    "hash": "2e4345545dd9f6a6b8278c551d10e1c0082ac7b12cfe8cf4973ca8fa070991c6"
   }
  }
 },
 "nbformat": 4,
 "nbformat_minor": 2
}
